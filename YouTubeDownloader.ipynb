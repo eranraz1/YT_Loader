{
 "cells": [
  {
   "cell_type": "code",
   "execution_count": 2,
   "metadata": {},
   "outputs": [],
   "source": [
    "# Create list of YouTube links\n",
    "\n",
    "slist = []\n",
    "import csv\n",
    "with open('download_list.csv', 'r') as fd:\n",
    "    reader = csv.reader(fd)\n",
    "    for row in reader:\n",
    "       slist.extend(row)"
   ]
  },
  {
   "cell_type": "code",
   "execution_count": 8,
   "metadata": {},
   "outputs": [
    {
     "name": "stderr",
     "output_type": "stream",
     "text": [
      "UsageError: Line magic function `%activate` not found.\n"
     ]
    }
   ],
   "source": [
    "%activate ytdvenv"
   ]
  },
  {
   "cell_type": "code",
   "execution_count": 3,
   "metadata": {},
   "outputs": [
    {
     "ename": "VideoUnavailable",
     "evalue": "WE5ywajGqfE is unavailable",
     "output_type": "error",
     "traceback": [
      "Traceback \u001b[1;36m(most recent call last)\u001b[0m:\n",
      "\u001b[0m  Cell \u001b[0;32mIn[3], line 11\u001b[0m\n    stream = yt.streams.get_highest_resolution()\u001b[0m\n",
      "\u001b[0m  File \u001b[0;32m~\\AppData\\Local\\anaconda3\\envs\\ytdvenv\\lib\\site-packages\\pytube\\__main__.py:295\u001b[0m in \u001b[0;35mstreams\u001b[0m\n    self.check_availability()\u001b[0m\n",
      "\u001b[1;36m  File \u001b[1;32m~\\AppData\\Local\\anaconda3\\envs\\ytdvenv\\lib\\site-packages\\pytube\\__main__.py:222\u001b[1;36m in \u001b[1;35mcheck_availability\u001b[1;36m\n\u001b[1;33m    raise exceptions.VideoUnavailable(video_id=self.video_id)\u001b[1;36m\n",
      "\u001b[1;31mVideoUnavailable\u001b[0m\u001b[1;31m:\u001b[0m WE5ywajGqfE is unavailable\n"
     ]
    }
   ],
   "source": [
    "# Download video (mp4)\n",
    "\n",
    "import os\n",
    "from pytube import YouTube\n",
    "from moviepy.editor import *\n",
    "import csv\n",
    "\n",
    "for url in slist:\n",
    "        # Download the video\n",
    "        yt = YouTube(url)\n",
    "        stream = yt.streams.get_highest_resolution()\n",
    "        stream.download() # OPTIONAL filename = \"123.mp4\""
   ]
  },
  {
   "cell_type": "code",
   "execution_count": 5,
   "metadata": {},
   "outputs": [
    {
     "name": "stdout",
     "output_type": "stream",
     "text": [
      "Africa.mp4\n",
      "MoviePy - Writing audio in Africa.mp4_.mp3\n"
     ]
    },
    {
     "name": "stderr",
     "output_type": "stream",
     "text": [
      "                                                                      \r"
     ]
    },
    {
     "name": "stdout",
     "output_type": "stream",
     "text": [
      "MoviePy - Done.\n",
      "All Roads Lead Home (Hobbs & Shaw Remix).mp4\n",
      "MoviePy - Writing audio in All Roads Lead Home (Hobbs & Shaw Remix).mp4_.mp3\n"
     ]
    },
    {
     "name": "stderr",
     "output_type": "stream",
     "text": [
      "                                                                      \r"
     ]
    },
    {
     "name": "stdout",
     "output_type": "stream",
     "text": [
      "MoviePy - Done.\n",
      "Animals.mp4\n",
      "MoviePy - Writing audio in Animals.mp4_.mp3\n"
     ]
    },
    {
     "name": "stderr",
     "output_type": "stream",
     "text": [
      "                                                                      \r"
     ]
    },
    {
     "name": "stdout",
     "output_type": "stream",
     "text": [
      "MoviePy - Done.\n",
      "Bad Habits.mp4\n",
      "MoviePy - Writing audio in Bad Habits.mp4_.mp3\n"
     ]
    },
    {
     "name": "stderr",
     "output_type": "stream",
     "text": [
      "                                                                      \r"
     ]
    },
    {
     "name": "stdout",
     "output_type": "stream",
     "text": [
      "MoviePy - Done.\n",
      "Beast (Southpaw Remix).mp4\n",
      "MoviePy - Writing audio in Beast (Southpaw Remix).mp4_.mp3\n"
     ]
    },
    {
     "name": "stderr",
     "output_type": "stream",
     "text": [
      "                                                                      \r"
     ]
    },
    {
     "name": "stdout",
     "output_type": "stream",
     "text": [
      "MoviePy - Done.\n",
      "Bette Davis Eyes.mp4\n",
      "MoviePy - Writing audio in Bette Davis Eyes.mp4_.mp3\n"
     ]
    },
    {
     "name": "stderr",
     "output_type": "stream",
     "text": [
      "                                                                      \r"
     ]
    },
    {
     "name": "stdout",
     "output_type": "stream",
     "text": [
      "MoviePy - Done.\n",
      "Burn.mp4\n",
      "MoviePy - Writing audio in Burn.mp4_.mp3\n"
     ]
    },
    {
     "name": "stderr",
     "output_type": "stream",
     "text": [
      "                                                                      \r"
     ]
    },
    {
     "name": "stdout",
     "output_type": "stream",
     "text": [
      "MoviePy - Done.\n",
      "By Your Side.mp4\n",
      "MoviePy - Writing audio in By Your Side.mp4_.mp3\n"
     ]
    },
    {
     "name": "stderr",
     "output_type": "stream",
     "text": [
      "                                                                      \r"
     ]
    },
    {
     "name": "stdout",
     "output_type": "stream",
     "text": [
      "MoviePy - Done.\n",
      "Coldplay feat Avicii - A Sky Full Of Stars.mp4\n",
      "MoviePy - Writing audio in Coldplay feat Avicii - A Sky Full Of Stars.mp4_.mp3\n"
     ]
    },
    {
     "name": "stderr",
     "output_type": "stream",
     "text": [
      "                                                                      \r"
     ]
    },
    {
     "name": "stdout",
     "output_type": "stream",
     "text": [
      "MoviePy - Done.\n",
      "CUBA.mp4\n",
      "MoviePy - Writing audio in CUBA.mp4_.mp3\n"
     ]
    },
    {
     "name": "stderr",
     "output_type": "stream",
     "text": [
      "                                                                      \r"
     ]
    },
    {
     "name": "stdout",
     "output_type": "stream",
     "text": [
      "MoviePy - Done.\n",
      "Dark Horse.mp4\n",
      "MoviePy - Writing audio in Dark Horse.mp4_.mp3\n"
     ]
    },
    {
     "name": "stderr",
     "output_type": "stream",
     "text": [
      "                                                                      \r"
     ]
    },
    {
     "name": "stdout",
     "output_type": "stream",
     "text": [
      "MoviePy - Done.\n",
      "Faith.mp4\n",
      "MoviePy - Writing audio in Faith.mp4_.mp3\n"
     ]
    },
    {
     "name": "stderr",
     "output_type": "stream",
     "text": [
      "                                                                      \r"
     ]
    },
    {
     "name": "stdout",
     "output_type": "stream",
     "text": [
      "MoviePy - Done.\n",
      "Feel So Close (Instrumental).mp4\n",
      "MoviePy - Writing audio in Feel So Close (Instrumental).mp4_.mp3\n"
     ]
    },
    {
     "name": "stderr",
     "output_type": "stream",
     "text": [
      "                                                                      \r"
     ]
    },
    {
     "name": "stdout",
     "output_type": "stream",
     "text": [
      "MoviePy - Done.\n",
      "Feel So Close (Radio Edit).mp4\n",
      "MoviePy - Writing audio in Feel So Close (Radio Edit).mp4_.mp3\n"
     ]
    },
    {
     "name": "stderr",
     "output_type": "stream",
     "text": [
      "                                                                      \r"
     ]
    },
    {
     "name": "stdout",
     "output_type": "stream",
     "text": [
      "MoviePy - Done.\n",
      "Forever Young.mp4\n",
      "MoviePy - Writing audio in Forever Young.mp4_.mp3\n"
     ]
    },
    {
     "name": "stderr",
     "output_type": "stream",
     "text": [
      "                                                                      \r"
     ]
    },
    {
     "name": "stdout",
     "output_type": "stream",
     "text": [
      "MoviePy - Done.\n",
      "Gimme Shelter (Harris Codini Mix) - The Rolling Stones.mp4\n",
      "MoviePy - Writing audio in Gimme Shelter (Harris Codini Mix) - The Rolling Stones.mp4_.mp3\n"
     ]
    },
    {
     "name": "stderr",
     "output_type": "stream",
     "text": [
      "                                                                      \r"
     ]
    },
    {
     "name": "stdout",
     "output_type": "stream",
     "text": [
      "MoviePy - Done.\n",
      "Gimme Shelter.mp4\n",
      "MoviePy - Writing audio in Gimme Shelter.mp4_.mp3\n"
     ]
    },
    {
     "name": "stderr",
     "output_type": "stream",
     "text": [
      "                                                                      \r"
     ]
    },
    {
     "name": "stdout",
     "output_type": "stream",
     "text": [
      "MoviePy - Done.\n",
      "Here Comes the Rain Again (Remastered Version).mp4\n",
      "MoviePy - Writing audio in Here Comes the Rain Again (Remastered Version).mp4_.mp3\n"
     ]
    },
    {
     "name": "stderr",
     "output_type": "stream",
     "text": [
      "                                                                      \r"
     ]
    },
    {
     "name": "stdout",
     "output_type": "stream",
     "text": [
      "MoviePy - Done.\n",
      "Hofshia.mp4\n",
      "MoviePy - Writing audio in Hofshia.mp4_.mp3\n"
     ]
    },
    {
     "name": "stderr",
     "output_type": "stream",
     "text": [
      "                                                                      \r"
     ]
    },
    {
     "name": "stdout",
     "output_type": "stream",
     "text": [
      "MoviePy - Done.\n",
      "If I Lose Myself  Destinations  Reload  Heroes.mp4\n",
      "MoviePy - Writing audio in If I Lose Myself  Destinations  Reload  Heroes.mp4_.mp3\n"
     ]
    },
    {
     "name": "stderr",
     "output_type": "stream",
     "text": [
      "                                                                      \r"
     ]
    },
    {
     "name": "stdout",
     "output_type": "stream",
     "text": [
      "MoviePy - Done.\n",
      "Im Good (Blue).mp4\n",
      "MoviePy - Writing audio in Im Good (Blue).mp4_.mp3\n"
     ]
    },
    {
     "name": "stderr",
     "output_type": "stream",
     "text": [
      "                                                                      \r"
     ]
    },
    {
     "name": "stdout",
     "output_type": "stream",
     "text": [
      "MoviePy - Done.\n",
      "Let Me Love You.mp4\n",
      "MoviePy - Writing audio in Let Me Love You.mp4_.mp3\n"
     ]
    },
    {
     "name": "stderr",
     "output_type": "stream",
     "text": [
      "                                                                      \r"
     ]
    },
    {
     "name": "stdout",
     "output_type": "stream",
     "text": [
      "MoviePy - Done.\n",
      "More Than You Know.mp4\n",
      "MoviePy - Writing audio in More Than You Know.mp4_.mp3\n"
     ]
    },
    {
     "name": "stderr",
     "output_type": "stream",
     "text": [
      "                                                                      \r"
     ]
    },
    {
     "name": "stdout",
     "output_type": "stream",
     "text": [
      "MoviePy - Done.\n",
      "Mortals.mp4\n",
      "MoviePy - Writing audio in Mortals.mp4_.mp3\n"
     ]
    },
    {
     "name": "stderr",
     "output_type": "stream",
     "text": [
      "                                                                      \r"
     ]
    },
    {
     "name": "stdout",
     "output_type": "stream",
     "text": [
      "MoviePy - Done.\n",
      "My Way.mp4\n",
      "MoviePy - Writing audio in My Way.mp4_.mp3\n"
     ]
    },
    {
     "name": "stderr",
     "output_type": "stream",
     "text": [
      "                                                                      \r"
     ]
    },
    {
     "name": "stdout",
     "output_type": "stream",
     "text": [
      "MoviePy - Done.\n",
      "Open Wide.mp4\n",
      "MoviePy - Writing audio in Open Wide.mp4_.mp3\n"
     ]
    },
    {
     "name": "stderr",
     "output_type": "stream",
     "text": [
      "                                                                      \r"
     ]
    },
    {
     "name": "stdout",
     "output_type": "stream",
     "text": [
      "MoviePy - Done.\n",
      "Outside.mp4\n",
      "MoviePy - Writing audio in Outside.mp4_.mp3\n"
     ]
    },
    {
     "name": "stderr",
     "output_type": "stream",
     "text": [
      "                                                                      \r"
     ]
    },
    {
     "name": "stdout",
     "output_type": "stream",
     "text": [
      "MoviePy - Done.\n",
      "Overdrive.mp4\n",
      "MoviePy - Writing audio in Overdrive.mp4_.mp3\n"
     ]
    },
    {
     "name": "stderr",
     "output_type": "stream",
     "text": [
      "                                                                      \r"
     ]
    },
    {
     "name": "stdout",
     "output_type": "stream",
     "text": [
      "MoviePy - Done.\n",
      "Phantom of the Opera.mp4\n",
      "MoviePy - Writing audio in Phantom of the Opera.mp4_.mp3\n"
     ]
    },
    {
     "name": "stderr",
     "output_type": "stream",
     "text": [
      "                                                                      \r"
     ]
    },
    {
     "name": "stdout",
     "output_type": "stream",
     "text": [
      "MoviePy - Done.\n",
      "Pray to God.mp4\n",
      "MoviePy - Writing audio in Pray to God.mp4_.mp3\n"
     ]
    },
    {
     "name": "stderr",
     "output_type": "stream",
     "text": [
      "                                                                      \r"
     ]
    },
    {
     "name": "stdout",
     "output_type": "stream",
     "text": [
      "MoviePy - Done.\n",
      "Run (Collins Remix).mp4\n",
      "MoviePy - Writing audio in Run (Collins Remix).mp4_.mp3\n"
     ]
    },
    {
     "name": "stderr",
     "output_type": "stream",
     "text": [
      "                                                                      \r"
     ]
    },
    {
     "name": "stdout",
     "output_type": "stream",
     "text": [
      "MoviePy - Done.\n",
      "Sexy Bitch.mp4\n",
      "MoviePy - Writing audio in Sexy Bitch.mp4_.mp3\n"
     ]
    },
    {
     "name": "stderr",
     "output_type": "stream",
     "text": [
      "                                                                      \r"
     ]
    },
    {
     "name": "stdout",
     "output_type": "stream",
     "text": [
      "MoviePy - Done.\n",
      "Sing Me to Sleep.mp4\n",
      "MoviePy - Writing audio in Sing Me to Sleep.mp4_.mp3\n"
     ]
    },
    {
     "name": "stderr",
     "output_type": "stream",
     "text": [
      "                                                                      \r"
     ]
    },
    {
     "name": "stdout",
     "output_type": "stream",
     "text": [
      "MoviePy - Done.\n",
      "Smooth Criminal.mp4\n",
      "MoviePy - Writing audio in Smooth Criminal.mp4_.mp3\n"
     ]
    },
    {
     "name": "stderr",
     "output_type": "stream",
     "text": [
      "                                                                      \r"
     ]
    },
    {
     "name": "stdout",
     "output_type": "stream",
     "text": [
      "MoviePy - Done.\n",
      "Summer.mp4\n",
      "MoviePy - Writing audio in Summer.mp4_.mp3\n"
     ]
    },
    {
     "name": "stderr",
     "output_type": "stream",
     "text": [
      "                                                                      \r"
     ]
    },
    {
     "name": "stdout",
     "output_type": "stream",
     "text": [
      "MoviePy - Done.\n",
      "Sweet Dreams (Are Made of This).mp4\n",
      "MoviePy - Writing audio in Sweet Dreams (Are Made of This).mp4_.mp3\n"
     ]
    },
    {
     "name": "stderr",
     "output_type": "stream",
     "text": [
      "                                                                      \r"
     ]
    },
    {
     "name": "stdout",
     "output_type": "stream",
     "text": [
      "MoviePy - Done.\n",
      "Take A Look Around (GH Version).mp4\n",
      "MoviePy - Writing audio in Take A Look Around (GH Version).mp4_.mp3\n"
     ]
    },
    {
     "name": "stderr",
     "output_type": "stream",
     "text": [
      "                                                                      \r"
     ]
    },
    {
     "name": "stdout",
     "output_type": "stream",
     "text": [
      "MoviePy - Done.\n",
      "The Sound of Silence.mp4\n",
      "MoviePy - Writing audio in The Sound of Silence.mp4_.mp3\n"
     ]
    },
    {
     "name": "stderr",
     "output_type": "stream",
     "text": [
      "                                                                      \r"
     ]
    },
    {
     "name": "stdout",
     "output_type": "stream",
     "text": [
      "MoviePy - Done.\n",
      "Thunderstruck.mp4\n",
      "MoviePy - Writing audio in Thunderstruck.mp4_.mp3\n"
     ]
    },
    {
     "name": "stderr",
     "output_type": "stream",
     "text": [
      "                                                                      \r"
     ]
    },
    {
     "name": "stdout",
     "output_type": "stream",
     "text": [
      "MoviePy - Done.\n",
      "Time After Time.mp4\n",
      "MoviePy - Writing audio in Time After Time.mp4_.mp3\n"
     ]
    },
    {
     "name": "stderr",
     "output_type": "stream",
     "text": [
      "                                                                      \r"
     ]
    },
    {
     "name": "stdout",
     "output_type": "stream",
     "text": [
      "MoviePy - Done.\n",
      "Under Control.mp4\n",
      "MoviePy - Writing audio in Under Control.mp4_.mp3\n"
     ]
    },
    {
     "name": "stderr",
     "output_type": "stream",
     "text": [
      "                                                                      \r"
     ]
    },
    {
     "name": "stdout",
     "output_type": "stream",
     "text": [
      "MoviePy - Done.\n",
      "We Cut the Night.mp4\n",
      "MoviePy - Writing audio in We Cut the Night.mp4_.mp3\n"
     ]
    },
    {
     "name": "stderr",
     "output_type": "stream",
     "text": [
      "                                                                      \r"
     ]
    },
    {
     "name": "stdout",
     "output_type": "stream",
     "text": [
      "MoviePy - Done.\n",
      "Welcome to the DCC.mp4\n",
      "MoviePy - Writing audio in Welcome to the DCC.mp4_.mp3\n"
     ]
    },
    {
     "name": "stderr",
     "output_type": "stream",
     "text": [
      "                                                                      \r"
     ]
    },
    {
     "name": "stdout",
     "output_type": "stream",
     "text": [
      "MoviePy - Done.\n",
      "Where Them Girls At.mp4\n",
      "MoviePy - Writing audio in Where Them Girls At.mp4_.mp3\n"
     ]
    },
    {
     "name": "stderr",
     "output_type": "stream",
     "text": [
      "                                                                      \r"
     ]
    },
    {
     "name": "stdout",
     "output_type": "stream",
     "text": [
      "MoviePy - Done.\n",
      "Words.mp4\n",
      "MoviePy - Writing audio in Words.mp4_.mp3\n"
     ]
    },
    {
     "name": "stderr",
     "output_type": "stream",
     "text": [
      "                                                                      \r"
     ]
    },
    {
     "name": "stdout",
     "output_type": "stream",
     "text": [
      "MoviePy - Done.\n",
      "You Make Me Feel.mp4\n",
      "MoviePy - Writing audio in You Make Me Feel.mp4_.mp3\n"
     ]
    },
    {
     "name": "stderr",
     "output_type": "stream",
     "text": [
      "                                                                      \r"
     ]
    },
    {
     "name": "stdout",
     "output_type": "stream",
     "text": [
      "MoviePy - Done.\n",
      "אגרוף.mp4\n",
      "MoviePy - Writing audio in אגרוף.mp4_.mp3\n"
     ]
    },
    {
     "name": "stderr",
     "output_type": "stream",
     "text": [
      "                                                                      \r"
     ]
    },
    {
     "name": "stdout",
     "output_type": "stream",
     "text": [
      "MoviePy - Done.\n",
      "אייל גולן ועופר ניסים - לא מבינה עברית (Guy Raz Remix).mp4\n",
      "MoviePy - Writing audio in אייל גולן ועופר ניסים - לא מבינה עברית (Guy Raz Remix).mp4_.mp3\n"
     ]
    },
    {
     "name": "stderr",
     "output_type": "stream",
     "text": [
      "                                                                      \r"
     ]
    },
    {
     "name": "stdout",
     "output_type": "stream",
     "text": [
      "MoviePy - Done.\n",
      "אין לנו סוף.mp4\n",
      "MoviePy - Writing audio in אין לנו סוף.mp4_.mp3\n"
     ]
    },
    {
     "name": "stderr",
     "output_type": "stream",
     "text": [
      "                                                                      \r"
     ]
    },
    {
     "name": "stdout",
     "output_type": "stream",
     "text": [
      "MoviePy - Done.\n",
      "אתי.mp4\n",
      "MoviePy - Writing audio in אתי.mp4_.mp3\n"
     ]
    },
    {
     "name": "stderr",
     "output_type": "stream",
     "text": [
      "                                                                      \r"
     ]
    },
    {
     "name": "stdout",
     "output_type": "stream",
     "text": [
      "MoviePy - Done.\n",
      "באתי לחלום.mp4\n",
      "MoviePy - Writing audio in באתי לחלום.mp4_.mp3\n"
     ]
    },
    {
     "name": "stderr",
     "output_type": "stream",
     "text": [
      "                                                                      \r"
     ]
    },
    {
     "name": "stdout",
     "output_type": "stream",
     "text": [
      "MoviePy - Done.\n",
      "בלילה.mp4\n",
      "MoviePy - Writing audio in בלילה.mp4_.mp3\n"
     ]
    },
    {
     "name": "stderr",
     "output_type": "stream",
     "text": [
      "                                                                      \r"
     ]
    },
    {
     "name": "stdout",
     "output_type": "stream",
     "text": [
      "MoviePy - Done.\n",
      "בלילות.mp4\n",
      "MoviePy - Writing audio in בלילות.mp4_.mp3\n"
     ]
    },
    {
     "name": "stderr",
     "output_type": "stream",
     "text": [
      "                                                                      \r"
     ]
    },
    {
     "name": "stdout",
     "output_type": "stream",
     "text": [
      "MoviePy - Done.\n",
      "הוא כותב לי מאמי.mp4\n",
      "MoviePy - Writing audio in הוא כותב לי מאמי.mp4_.mp3\n"
     ]
    },
    {
     "name": "stderr",
     "output_type": "stream",
     "text": [
      "                                                                      \r"
     ]
    },
    {
     "name": "stdout",
     "output_type": "stream",
     "text": [
      "MoviePy - Done.\n",
      "ואם פרידה.mp4\n",
      "MoviePy - Writing audio in ואם פרידה.mp4_.mp3\n"
     ]
    },
    {
     "name": "stderr",
     "output_type": "stream",
     "text": [
      "                                                                      \r"
     ]
    },
    {
     "name": "stdout",
     "output_type": "stream",
     "text": [
      "MoviePy - Done.\n",
      "ואם תבואי אליי.mp4\n",
      "MoviePy - Writing audio in ואם תבואי אליי.mp4_.mp3\n"
     ]
    },
    {
     "name": "stderr",
     "output_type": "stream",
     "text": [
      "                                                                      \r"
     ]
    },
    {
     "name": "stdout",
     "output_type": "stream",
     "text": [
      "MoviePy - Done.\n",
      "חלומות של אחרים.mp4\n",
      "MoviePy - Writing audio in חלומות של אחרים.mp4_.mp3\n"
     ]
    },
    {
     "name": "stderr",
     "output_type": "stream",
     "text": [
      "                                                                      \r"
     ]
    },
    {
     "name": "stdout",
     "output_type": "stream",
     "text": [
      "MoviePy - Done.\n",
      "חצי דפוק.mp4\n",
      "MoviePy - Writing audio in חצי דפוק.mp4_.mp3\n"
     ]
    },
    {
     "name": "stderr",
     "output_type": "stream",
     "text": [
      "                                                                      \r"
     ]
    },
    {
     "name": "stdout",
     "output_type": "stream",
     "text": [
      "MoviePy - Done.\n",
      "ככה מיום ליום (Kacha MiYom LeYom) [Guy Elberg Remix].mp4\n",
      "MoviePy - Writing audio in ככה מיום ליום (Kacha MiYom LeYom) [Guy Elberg Remix].mp4_.mp3\n"
     ]
    },
    {
     "name": "stderr",
     "output_type": "stream",
     "text": [
      "                                                                      \r"
     ]
    },
    {
     "name": "stdout",
     "output_type": "stream",
     "text": [
      "MoviePy - Done.\n",
      "לא מתנצלת (Yaniv Shamlik & Smiley Remix).mp4\n",
      "MoviePy - Writing audio in לא מתנצלת (Yaniv Shamlik & Smiley Remix).mp4_.mp3\n"
     ]
    },
    {
     "name": "stderr",
     "output_type": "stream",
     "text": [
      "                                                                      \r"
     ]
    },
    {
     "name": "stdout",
     "output_type": "stream",
     "text": [
      "MoviePy - Done.\n",
      "לשוב הביתה.mp4\n",
      "MoviePy - Writing audio in לשוב הביתה.mp4_.mp3\n"
     ]
    },
    {
     "name": "stderr",
     "output_type": "stream",
     "text": [
      "                                                                      \r"
     ]
    },
    {
     "name": "stdout",
     "output_type": "stream",
     "text": [
      "MoviePy - Done.\n",
      "מי לא יבוא (Mikel Mermelstein Remix).mp4\n",
      "MoviePy - Writing audio in מי לא יבוא (Mikel Mermelstein Remix).mp4_.mp3\n"
     ]
    },
    {
     "name": "stderr",
     "output_type": "stream",
     "text": [
      "                                                                      \r"
     ]
    },
    {
     "name": "stdout",
     "output_type": "stream",
     "text": [
      "MoviePy - Done.\n",
      "מישהו איתי כאן.mp4\n",
      "MoviePy - Writing audio in מישהו איתי כאן.mp4_.mp3\n"
     ]
    },
    {
     "name": "stderr",
     "output_type": "stream",
     "text": [
      "                                                                      \r"
     ]
    },
    {
     "name": "stdout",
     "output_type": "stream",
     "text": [
      "MoviePy - Done.\n",
      "מלכה.mp4\n",
      "MoviePy - Writing audio in מלכה.mp4_.mp3\n"
     ]
    },
    {
     "name": "stderr",
     "output_type": "stream",
     "text": [
      "                                                                      \r"
     ]
    },
    {
     "name": "stdout",
     "output_type": "stream",
     "text": [
      "MoviePy - Done.\n",
      "עושה מסיבות (איך היא אוהבת).mp4\n",
      "MoviePy - Writing audio in עושה מסיבות (איך היא אוהבת).mp4_.mp3\n"
     ]
    },
    {
     "name": "stderr",
     "output_type": "stream",
     "text": [
      "                                                                      \r"
     ]
    },
    {
     "name": "stdout",
     "output_type": "stream",
     "text": [
      "MoviePy - Done.\n",
      "עץ ירוק מפלסטיק.mp4\n",
      "MoviePy - Writing audio in עץ ירוק מפלסטיק.mp4_.mp3\n"
     ]
    },
    {
     "name": "stderr",
     "output_type": "stream",
     "text": [
      "                                                                      \r"
     ]
    },
    {
     "name": "stdout",
     "output_type": "stream",
     "text": [
      "MoviePy - Done.\n",
      "שבע בערב.mp4\n",
      "MoviePy - Writing audio in שבע בערב.mp4_.mp3\n"
     ]
    },
    {
     "name": "stderr",
     "output_type": "stream",
     "text": [
      "                                                                      \r"
     ]
    },
    {
     "name": "stdout",
     "output_type": "stream",
     "text": [
      "MoviePy - Done.\n",
      "תישארי את.mp4\n",
      "MoviePy - Writing audio in תישארי את.mp4_.mp3\n"
     ]
    },
    {
     "name": "stderr",
     "output_type": "stream",
     "text": [
      "                                                                      "
     ]
    },
    {
     "name": "stdout",
     "output_type": "stream",
     "text": [
      "MoviePy - Done.\n"
     ]
    },
    {
     "name": "stderr",
     "output_type": "stream",
     "text": [
      "\r"
     ]
    }
   ],
   "source": [
    "# Convert mp4 to mp3\n",
    "\n",
    "import os\n",
    "from pytube import YouTube\n",
    "from moviepy.editor import *\n",
    "import csv \n",
    "for f in os.listdir():\n",
    "    if f.endswith('.mp4'):\n",
    "        print(f)\n",
    "        # Extract the audio\n",
    "        video = VideoFileClip(f)\n",
    "        audio = video.audio\n",
    "        audio.write_audiofile(f+'_.mp3')\n",
    "\n",
    "        # Delete the downloaded video file\n",
    "        # os.remove(f)"
   ]
  },
  {
   "cell_type": "code",
   "execution_count": null,
   "metadata": {},
   "outputs": [],
   "source": [
    "exit()"
   ]
  },
  {
   "cell_type": "code",
   "execution_count": 2,
   "metadata": {},
   "outputs": [
    {
     "data": {
      "text/plain": [
       "[]"
      ]
     },
     "execution_count": 2,
     "metadata": {},
     "output_type": "execute_result"
    }
   ],
   "source": [
    "import os\n",
    "[os.remove(f) for f in os.listdir() if f.endswith('.mp4')]"
   ]
  },
  {
   "cell_type": "code",
   "execution_count": null,
   "metadata": {},
   "outputs": [],
   "source": []
  }
 ],
 "metadata": {
  "kernelspec": {
   "display_name": "Python 3 (Spyder)",
   "language": "python3",
   "name": "python3"
  },
  "language_info": {
   "codemirror_mode": {
    "name": "ipython",
    "version": 3
   },
   "file_extension": ".py",
   "mimetype": "text/x-python",
   "name": "python",
   "nbconvert_exporter": "python",
   "pygments_lexer": "ipython3",
   "version": "3.10.12"
  }
 },
 "nbformat": 4,
 "nbformat_minor": 4
}
